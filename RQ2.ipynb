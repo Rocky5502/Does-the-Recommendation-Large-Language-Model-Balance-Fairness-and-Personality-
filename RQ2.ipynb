{
 "cells": [
  {
   "cell_type": "code",
   "execution_count": 1,
   "id": "4819722e-5931-4ade-b06e-910dfeab1ba8",
   "metadata": {},
   "outputs": [],
   "source": [
    "import pandas as pd\n",
    "import numpy as np\n",
    "from sklearn.feature_extraction.text import CountVectorizer\n",
    "from sklearn.decomposition import LatentDirichletAllocation\n",
    "import matplotlib.pyplot as plt"
   ]
  },
  {
   "cell_type": "code",
   "execution_count": 3,
   "id": "f4a5fe11-1809-47ec-9772-9287cd97fffc",
   "metadata": {},
   "outputs": [],
   "source": [
    "# Generate synthetic data\n",
    "data = {\n",
    "    \"User_ID\": range(1, 101),  # 100 synthetic users\n",
    "    \"Feedback\": np.random.choice([\n",
    "        \"The recommendations need to be more diverse.\",\n",
    "        \"I want more control over the types of recommendations I receive.\",\n",
    "        \"It should be easier to see why a recommendation was made.\",\n",
    "        \"There should be more options to customize the user interface.\",\n",
    "        \"The recommendations are too similar to each other.\",\n",
    "        \"I like how quickly it learns my preferences.\",\n",
    "        \"The system is generally very intuitive and user-friendly.\",\n",
    "        \"There needs to be a better way to give feedback on recommendations.\"\n",
    "    ], 100)\n",
    "}\n",
    "df_feedback = pd.DataFrame(data)"
   ]
  },
  {
   "cell_type": "code",
   "execution_count": 4,
   "id": "8fb225bf-98c2-4665-8642-4b4637e9633d",
   "metadata": {},
   "outputs": [
    {
     "name": "stdout",
     "output_type": "stream",
     "text": [
      "Topic 0:\n",
      "recommendation easier similar need diverse\n",
      "Topic 1:\n",
      "like quickly preferences learns similar\n",
      "Topic 2:\n",
      "recommendations way feedback needs better\n",
      "Topic 3:\n",
      "user intuitive friendly generally similar\n",
      "Topic 4:\n",
      "user interface customize options similar\n"
     ]
    }
   ],
   "source": [
    "# Vectorize the feedback for topic modeling\n",
    "vectorizer = CountVectorizer(stop_words='english')\n",
    "feedback_matrix = vectorizer.fit_transform(df_feedback['Feedback'])\n",
    "\n",
    "# Apply LDA for topic modeling\n",
    "lda = LatentDirichletAllocation(n_components=5, random_state=42)  # 5 topics\n",
    "topics = lda.fit_transform(feedback_matrix)\n",
    "\n",
    "# Function to display the top words in each topic\n",
    "def display_topics(model, feature_names, no_top_words):\n",
    "    for topic_idx, topic in enumerate(model.components_):\n",
    "        print(\"Topic %d:\" % (topic_idx))\n",
    "        print(\" \".join([feature_names[i]\n",
    "                        for i in topic.argsort()[:-no_top_words - 1:-1]]))\n",
    "\n",
    "# Display topics\n",
    "display_topics(lda, vectorizer.get_feature_names_out(), 5)\n"
   ]
  },
  {
   "cell_type": "code",
   "execution_count": 5,
   "id": "00679653-ad52-4150-bd5e-65284ca37dd9",
   "metadata": {},
   "outputs": [
    {
     "data": {
      "image/png": "[encoded data removed]",
      "text/plain": [
       "<Figure size 640x480 with 1 Axes>"
      ]
     },
     "metadata": {},
     "output_type": "display_data"
    }
   ],
   "source": [
    "# Summarize topic distribution\n",
    "topic_summaries = np.argmax(topics, axis=1)\n",
    "topic_counts = np.bincount(topic_summaries)\n",
    "\n",
    "# Plotting\n",
    "plt.bar(range(len(topic_counts)), topic_counts)\n",
    "plt.xlabel('Topics')\n",
    "plt.ylabel('Number of Feedbacks')\n",
    "plt.title('Feedback Topic Distribution')\n",
    "plt.xticks(range(len(topic_counts)))\n",
    "plt.show()"
   ]
  },
  {
   "cell_type": "code",
   "execution_count": 6,
   "id": "c30df081-ad46-4990-8a35-680115d0b90e",
   "metadata": {},
   "outputs": [
    {
     "name": "stdout",
     "output_type": "stream",
     "text": [
      "Summary of Feedback Topics:\n",
      "Topic 0 received 9 feedbacks, indicating a minor concern among users.\n",
      "Topic 1 received 14 feedbacks, indicating a minor concern among users.\n",
      "Topic 2 received 49 feedbacks, indicating a major concern among users.\n",
      "Topic 3 received 14 feedbacks, indicating a minor concern among users.\n",
      "Topic 4 received 14 feedbacks, indicating a minor concern among users.\n"
     ]
    }
   ],
   "source": [
    "# Interpret and discuss the results\n",
    "print(\"Summary of Feedback Topics:\")\n",
    "for i, count in enumerate(topic_counts):\n",
    "    print(f\"Topic {i} received {count} feedbacks, indicating {'a major' if count > np.mean(topic_counts) else 'a minor'} concern among users.\")\n"
   ]
  },
  {
   "cell_type": "code",
   "execution_count": null,
   "id": "61ee00c3-2498-46b9-96a7-c277e3ce082b",
   "metadata": {},
   "outputs": [],
   "source": []
  }
 ],
 "metadata": {
  "kernelspec": {
   "display_name": "Python 3 (ipykernel)",
   "language": "python",
   "name": "python3"
  },
  "language_info": {
   "codemirror_mode": {
    "name": "ipython",
    "version": 3
   },
   "file_extension": ".py",
   "mimetype": "text/x-python",
   "name": "python",
   "nbconvert_exporter": "python",
   "pygments_lexer": "ipython3",
   "version": "3.11.7"
  }
 },
 "nbformat": 4,
 "nbformat_minor": 5
}
